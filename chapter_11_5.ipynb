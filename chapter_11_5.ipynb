{
 "cells": [
  {
   "cell_type": "code",
   "execution_count": null,
   "metadata": {},
   "outputs": [],
   "source": [
    "from tkinter import * #윈도우에서 파일찾기\n",
    "\n",
    "file = input(\"입력 파일 이름: \") #number.txt 파일 열기\n",
    "infile = open(file, \"r\")\n",
    "files = infile.readlines() #파일전체 데이터 읽기\n",
    "infile.close()\n",
    "\n",
    "file = input(\"출력 파일 이름: \") #출력파일에 결과 저장\n",
    "outfile = open(file,\"w\")"
   ]
  },
  {
   "cell_type": "code",
   "execution_count": null,
   "metadata": {},
   "outputs": [],
   "source": [
    "total = 0 #변수값 0으로 초기화\n",
    "avg = 0\n",
    "count = 0\n",
    "for s in files: #files 변수에 저장된 데이터 수 만큼 반복 \n",
    "    total += float(s) #모든 실수값 다더함\n",
    "    count += 1 #평균 구하기 위해 더한 실수갯수 체크\n",
    "avg = total / count # 전체 더한 값을 더한횟수로 나누어평균계산\n",
    "\n",
    "print(\"합계=\"+str(total), file = outfile, end =\"\\n\") #total과 avg값을 output.txt에 저장\n",
    "print(\"평균=\"+str(avg), file = outfile, end =\"\")\n",
    "\n",
    "outfile.close()"
   ]
  },
  {
   "cell_type": "code",
   "execution_count": null,
   "metadata": {},
   "outputs": [],
   "source": []
  }
 ],
 "metadata": {
  "kernelspec": {
   "display_name": "Python 3",
   "language": "python",
   "name": "python3"
  },
  "language_info": {
   "codemirror_mode": {
    "name": "ipython",
    "version": 3
   },
   "file_extension": ".py",
   "mimetype": "text/x-python",
   "name": "python",
   "nbconvert_exporter": "python",
   "pygments_lexer": "ipython3",
   "version": "3.7.1"
  }
 },
 "nbformat": 4,
 "nbformat_minor": 2
}
