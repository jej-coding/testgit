{
 "cells": [
  {
   "cell_type": "code",
   "execution_count": null,
   "metadata": {},
   "outputs": [],
   "source": [
    "class Circle:\n",
    "    def __init__(self, radius): #객체 변수 외부값 100으로 초기화\n",
    "        self.radius = radius\n",
    "    def calcPerimeter(self): #원의 둘레 계산 함수\n",
    "        self.calcperimeter = 3.14 * 2 * self.radius\n",
    "    def calcArea(self): #원의 면적 계산 함수\n",
    "        self.calcarea = 3.14 * self.radius**2\n",
    "    def __str__(self): #Circle안의 정보 출력\n",
    "        msg = \"반지름: \"+str(self.radius) +\" 원의 둘레: \"+str(self.calcperimeter) +\" 원의 면적: \"+str(self.calcarea)\n",
    "        return msg"
   ]
  },
  {
   "cell_type": "code",
   "execution_count": null,
   "metadata": {},
   "outputs": [],
   "source": [
    "myCircle = Circle(100) #myCircle에 radius값 100인 Circle객체 생성\n",
    "myCircle.calcPerimeter()\n",
    "myCircle.calcArea()\n",
    "print(myCircle)"
   ]
  }
 ],
 "metadata": {
  "kernelspec": {
   "display_name": "Python 3",
   "language": "python",
   "name": "python3"
  },
  "language_info": {
   "codemirror_mode": {
    "name": "ipython",
    "version": 3
   },
   "file_extension": ".py",
   "mimetype": "text/x-python",
   "name": "python",
   "nbconvert_exporter": "python",
   "pygments_lexer": "ipython3",
   "version": "3.7.1"
  }
 },
 "nbformat": 4,
 "nbformat_minor": 2
}
