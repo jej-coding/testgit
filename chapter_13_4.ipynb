{
 "cells": [
  {
   "cell_type": "code",
   "execution_count": null,
   "metadata": {},
   "outputs": [],
   "source": [
    "from turtle import *\n",
    "\n",
    "class MyTurtle(Turtle): #MyTurtle 클레스에 Turtle클래스 상속\n",
    "    def drawSquare(self):\n",
    "        for i in range(4):\n",
    "            self.right(90)\n",
    "            self.forward(100)\n",
    "\n",
    "my_turtle = MyTurtle()\n",
    "my_turtle.forward(100)\n",
    "my_turtle.drawSquare()"
   ]
  },
  {
   "cell_type": "code",
   "execution_count": null,
   "metadata": {},
   "outputs": [],
   "source": []
  }
 ],
 "metadata": {
  "kernelspec": {
   "display_name": "Python 3",
   "language": "python",
   "name": "python3"
  },
  "language_info": {
   "codemirror_mode": {
    "name": "ipython",
    "version": 3
   },
   "file_extension": ".py",
   "mimetype": "text/x-python",
   "name": "python",
   "nbconvert_exporter": "python",
   "pygments_lexer": "ipython3",
   "version": "3.7.1"
  }
 },
 "nbformat": 4,
 "nbformat_minor": 2
}
